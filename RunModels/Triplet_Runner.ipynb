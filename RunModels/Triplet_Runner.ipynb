{
 "cells": [
  {
   "cell_type": "code",
   "execution_count": null,
   "metadata": {},
   "outputs": [],
   "source": [
    "#IMPORTS\n",
    "import numpy as np\n",
    "from PrepSteps.TripletGen import DataLoad, triplet_gen\n",
    "from Visuals.TSNE import scatter\n",
    "from LoadModels.TripletNet import EmbeddingNet\n",
    "from TripletSiamese.TripletLoss import triplet_loss\n",
    "\n",
    "from sklearn.model_selection import train_test_split\n",
    "from tensorflow.keras.optimizers import RMSprop, Adam,SGD\n",
    "from tensorflow.keras.models import Sequential, Model\n",
    "from tensorflow.keras.layers import Activation, Input, concatenate, Lambda\n",
    "from tensorflow.keras import backend as K\n",
    "import tensorflow as tf\n",
    "from sklearn.manifold import TSNE"
   ]
  },
  {
   "cell_type": "code",
   "execution_count": null,
   "metadata": {},
   "outputs": [],
   "source": [
    "PATH = r'INSERT DIRECTORY OF THE DATASET'\n",
    "x, y ,dataset= DataLoad(PATH)\n",
    "x_train, x_test, y_train, y_test = train_test_split(x, y, test_size=0.33, random_state=42)\n",
    "\n",
    "### Dimensions of the image inputs\n",
    "dim1 = x_train.shape[1]\n",
    "dim2 = x_train.shape[2]\n",
    "dim3 = x_train.shape[3]"
   ]
  },
  {
   "cell_type": "code",
   "execution_count": null,
   "metadata": {},
   "outputs": [],
   "source": [
    "#Plot the datapoints before training\n",
    "\n",
    "\n",
    "x_train_flat = x_train.reshape(-1,dim1*dim2*dim3)\n",
    "x_test_flat = x_test.reshape(-1,dim1*dim2*dim3)\n",
    "\n",
    "tsne = TSNE()\n",
    "train_tsne_embeds = tsne.fit_transform(x_train_flat[:512])\n",
    "scatter(train_tsne_embeds, y_train[:512],'Training Datapoints')\n",
    "\n",
    "eval_tsne_embeds = tsne.fit_transform(x_test_flat[:512])\n",
    "scatter(eval_tsne_embeds, y_test[:512], 'Validation Datapoints')"
   ]
  },
  {
   "cell_type": "code",
   "execution_count": null,
   "metadata": {},
   "outputs": [],
   "source": [
    "X_train, X_test = triplet_gen(x_train, y_train, num_pairs =10 , test_size=0.3)"
   ]
  },
  {
   "cell_type": "code",
   "execution_count": null,
   "metadata": {},
   "outputs": [],
   "source": [
    "adam_optim = RMSprop(lr=0.01, decay=2e-2)"
   ]
  },
  {
   "cell_type": "code",
   "execution_count": null,
   "metadata": {},
   "outputs": [],
   "source": [
    "anchor_input = Input((dim1,dim2,dim3), name='anchor')\n",
    "positive_input = Input((dim1,dim2,dim3), name='positive')\n",
    "negative_input = Input((dim1,dim2,dim3), name='negative')\n",
    "\n",
    "# Shared embedding layer for positive and negative items\n",
    "Share_Weights = EmbeddingNet([dim1,dim2,dim3])\n",
    "\n",
    "# Encode the input images\n",
    "encoded_anchor = Shared_Weights(anchor_input)\n",
    "encoded_positive = Shared_Weights(positive_input)\n",
    "encoded_negative = Shared_Weights(negative_input)\n",
    "\n",
    "# L1_layer = Lambda(lambda tensor:K.abs(tensor[0] - tensor[1]))\n",
    "# L2_layer = Lambda(lambda tensor:K.abs(tensor[0] - tensor[1]))\n",
    "\n",
    "# L1_distance = L1_layer([encoded_anchor, encoded_positive])\n",
    "# L2_distance = L2_layer([encoded_anchor,encoded_negative])\n",
    "\n",
    "# merged_vector = ([L1_distance,L2_distance])\n",
    "# model = Model(inputs=[anchor_input,positive_input, negative_input],outputs=merged_vector)\n",
    "# model.compile(loss=triplet_loss, optimizer=adam_optim)\n",
    "\n",
    "merged_vector = concatenate([encoded_anchor, encoded_positive, encoded_negative], axis=-1, name='triplet_layer')\n",
    "\n",
    "model = Model(inputs=[anchor_input,positive_input, negative_input], outputs=merged_vector)\n",
    "model.compile(loss=triplet_loss, optimizer=adam_optim)\n",
    "\n",
    "model.summary()"
   ]
  },
  {
   "cell_type": "code",
   "execution_count": null,
   "metadata": {},
   "outputs": [],
   "source": [
    "shapes = (-1,dim1, dim2, dim3)\n",
    "Anchor = X_train[:,0,:].reshape(shapes)\n",
    "Positive = X_train[:,1,:].reshape(shapes)\n",
    "Negative = X_train[:,2,:].reshape(shapes)\n",
    "Anchor_test = X_test[:,0,:].reshape(shapes)\n",
    "Positive_test = X_test[:,1,:].reshape(shapes)\n",
    "Negative_test = X_test[:,2,:].reshape(shapes)\n",
    "\n",
    "label_count = len(np.unique(y_train))\n",
    "# Generate labels based on the number of classes\n",
    "Y_train_gen = np.empty((Anchor.shape[0], label_count))\n",
    "Y_test_gen = np.empty((Anchor_test.shape[0], label_count))\n",
    "\n",
    "triplet_model = model.fit([Anchor,Positive,Negative],y=Y_train_gen,\n",
    "          validation_data=([Anchor_test,Positive_test,Negative_test],Y_test_gen), \n",
    "          batch_size=100, epochs=200)\n"
   ]
  },
  {
   "cell_type": "code",
   "execution_count": null,
   "metadata": {},
   "outputs": [],
   "source": [
    "### Fit the trained embeddings in the TSNE \n",
    "tsne = TSNE()\n",
    "X_train_trm = triplet_model.predict(x_train[:512].reshape(-1,60,60,3))\n",
    "X_test_trm = triplet_model.predict(x_test[:512].reshape(-1,60,60,3))\n",
    "train_tsne_embeds = tsne.fit_transform(X_train_trm)\n",
    "eval_tsne_embeds = tsne.fit_transform(X_test_trm)"
   ]
  },
  {
   "cell_type": "code",
   "execution_count": null,
   "metadata": {},
   "outputs": [],
   "source": [
    "### Plot the trained embeddings \n",
    "scatter(train_tsne_embeds, y_train[:512], \"Training Data After TNN\")"
   ]
  }
 ],
 "metadata": {
  "kernelspec": {
   "display_name": "Python 3",
   "language": "python",
   "name": "python3"
  },
  "language_info": {
   "codemirror_mode": {
    "name": "ipython",
    "version": 3
   },
   "file_extension": ".py",
   "mimetype": "text/x-python",
   "name": "python",
   "nbconvert_exporter": "python",
   "pygments_lexer": "ipython3",
   "version": "3.7.0"
  }
 },
 "nbformat": 4,
 "nbformat_minor": 4
}
