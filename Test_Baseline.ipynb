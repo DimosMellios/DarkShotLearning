{
 "cells": [
  {
   "cell_type": "code",
   "execution_count": 1,
   "metadata": {},
   "outputs": [
    {
     "name": "stderr",
     "output_type": "stream",
     "text": [
      "Using TensorFlow backend.\n"
     ]
    }
   ],
   "source": [
    "#IMPORTS\n",
    "# import pandas as pd\n",
    "import os\n",
    "import matplotlib.pyplot as plt\n",
    "from LoadModels.CategoricalNets import categorical1, categorical2,categorical3\n",
    "from LoadModels.KNNbase import knn_baseline\n",
    "from keras.preprocessing.image import ImageDataGenerator\n",
    "import tensorflow as tf"
   ]
  },
  {
   "cell_type": "code",
   "execution_count": 2,
   "metadata": {},
   "outputs": [],
   "source": [
    "PATH =  r'DIRECTORY OF THE DATASET'"
   ]
  },
  {
   "cell_type": "code",
   "execution_count": 5,
   "metadata": {},
   "outputs": [
    {
     "name": "stdout",
     "output_type": "stream",
     "text": [
      "Model: \"sequential_1\"\n",
      "_________________________________________________________________\n",
      "Layer (type)                 Output Shape              Param #   \n",
      "=================================================================\n",
      "conv2d_4 (Conv2D)            (None, 56, 56, 32)        2432      \n",
      "_________________________________________________________________\n",
      "activation_6 (Activation)    (None, 56, 56, 32)        0         \n",
      "_________________________________________________________________\n",
      "conv2d_5 (Conv2D)            (None, 52, 52, 64)        51264     \n",
      "_________________________________________________________________\n",
      "activation_7 (Activation)    (None, 52, 52, 64)        0         \n",
      "_________________________________________________________________\n",
      "conv2d_6 (Conv2D)            (None, 48, 48, 128)       204928    \n",
      "_________________________________________________________________\n",
      "activation_8 (Activation)    (None, 48, 48, 128)       0         \n",
      "_________________________________________________________________\n",
      "max_pooling2d_2 (MaxPooling2 (None, 16, 16, 128)       0         \n",
      "_________________________________________________________________\n",
      "conv2d_7 (Conv2D)            (None, 12, 12, 256)       819456    \n",
      "_________________________________________________________________\n",
      "activation_9 (Activation)    (None, 12, 12, 256)       0         \n",
      "_________________________________________________________________\n",
      "max_pooling2d_3 (MaxPooling2 (None, 4, 4, 256)         0         \n",
      "_________________________________________________________________\n",
      "flatten_1 (Flatten)          (None, 4096)              0         \n",
      "_________________________________________________________________\n",
      "dense_2 (Dense)              (None, 512)               2097664   \n",
      "_________________________________________________________________\n",
      "activation_10 (Activation)   (None, 512)               0         \n",
      "_________________________________________________________________\n",
      "dense_3 (Dense)              (None, 8)                 4104      \n",
      "_________________________________________________________________\n",
      "activation_11 (Activation)   (None, 8)                 0         \n",
      "=================================================================\n",
      "Total params: 3,179,848\n",
      "Trainable params: 3,179,848\n",
      "Non-trainable params: 0\n",
      "_________________________________________________________________\n"
     ]
    }
   ],
   "source": [
    "image_shape =(100,100,3)\n",
    "categories = 8\n",
    "convnet = categorical3(image_shape,categories)\n",
    "convnet.summary()"
   ]
  },
  {
   "cell_type": "code",
   "execution_count": 6,
   "metadata": {},
   "outputs": [
    {
     "name": "stdout",
     "output_type": "stream",
     "text": [
      "Found 1837 images belonging to 8 classes.\n",
      "Found 781 images belonging to 8 classes.\n"
     ]
    }
   ],
   "source": [
    "datagen = tf.keras.preprocessing.image.ImageDataGenerator(\n",
    "    fill_mode='nearest',\n",
    "    data_format=None, validation_split=.3, dtype=None\n",
    ")\n",
    "\n",
    "# Create the 2 datasets with the Keras generator\n",
    "train_it = datagen.flow_from_directory(PATH, class_mode='categorical',target_size=(100,100),batch_size=4,subset='training')\n",
    "val_it = datagen.flow_from_directory(PATH, class_mode='categorical',target_size=(100,100), batch_size=4,subset='validation')\n"
   ]
  },
  {
   "cell_type": "code",
   "execution_count": 7,
   "metadata": {},
   "outputs": [
    {
     "name": "stdout",
     "output_type": "stream",
     "text": [
      "Batch shape=(4, 60, 60, 3), min=0.000, max=255.000\n"
     ]
    }
   ],
   "source": [
    "#Check if everything works properly\n",
    "batchX, batchy = train_it.next()\n",
    "print('Batch shape=%s, min=%.3f, max=%.3f' % (batchX.shape, batchX.min(), batchX.max()))"
   ]
  },
  {
   "cell_type": "markdown",
   "metadata": {},
   "source": [
    "### Run the model"
   ]
  },
  {
   "cell_type": "code",
   "execution_count": 8,
   "metadata": {},
   "outputs": [
    {
     "name": "stdout",
     "output_type": "stream",
     "text": [
      "Epoch 1/100\n",
      "35/35 [==============================] - 5s 137ms/step - loss: 7.1080 - accuracy: 0.1357 - val_loss: 3.7667 - val_accuracy: 0.0625\n",
      "Epoch 2/100\n",
      "35/35 [==============================] - 3s 90ms/step - loss: 4.3886 - accuracy: 0.0857 - val_loss: 3.5521 - val_accuracy: 0.2000\n",
      "Epoch 3/100\n",
      "35/35 [==============================] - 3s 96ms/step - loss: 3.4617 - accuracy: 0.1714 - val_loss: 3.8596 - val_accuracy: 0.1000\n",
      "Epoch 4/100\n",
      "35/35 [==============================] - 3s 99ms/step - loss: 3.0881 - accuracy: 0.0714 - val_loss: 2.2691 - val_accuracy: 0.1000\n",
      "Epoch 5/100\n",
      "35/35 [==============================] - 4s 109ms/step - loss: 2.2544 - accuracy: 0.1214 - val_loss: 2.0646 - val_accuracy: 0.1625\n",
      "Epoch 6/100\n",
      "35/35 [==============================] - 4s 106ms/step - loss: 2.2619 - accuracy: 0.0929 - val_loss: 2.0880 - val_accuracy: 0.0875\n",
      "Epoch 7/100\n",
      "35/35 [==============================] - 4s 104ms/step - loss: 2.2908 - accuracy: 0.0803 - val_loss: 2.2403 - val_accuracy: 0.0625\n",
      "Epoch 8/100\n",
      "35/35 [==============================] - 3s 95ms/step - loss: 2.2809 - accuracy: 0.0929 - val_loss: 2.2530 - val_accuracy: 0.1625\n",
      "Epoch 9/100\n",
      "35/35 [==============================] - 3s 96ms/step - loss: 2.2591 - accuracy: 0.1429 - val_loss: 2.2834 - val_accuracy: 0.0625\n",
      "Epoch 10/100\n",
      "35/35 [==============================] - 3s 97ms/step - loss: 2.2455 - accuracy: 0.1714 - val_loss: 2.1602 - val_accuracy: 0.1625\n",
      "Epoch 11/100\n",
      "35/35 [==============================] - 3s 96ms/step - loss: 2.2453 - accuracy: 0.1357 - val_loss: 2.2028 - val_accuracy: 0.1625\n",
      "Epoch 12/100\n",
      "35/35 [==============================] - 3s 95ms/step - loss: 2.2472 - accuracy: 0.1071 - val_loss: 2.2514 - val_accuracy: 0.0875\n",
      "Epoch 13/100\n",
      "35/35 [==============================] - 3s 95ms/step - loss: 2.2697 - accuracy: 0.1643 - val_loss: 2.1543 - val_accuracy: 0.1625\n",
      "Epoch 14/100\n",
      "35/35 [==============================] - 3s 97ms/step - loss: 2.2323 - accuracy: 0.0857 - val_loss: 2.1109 - val_accuracy: 0.1500\n",
      "Epoch 15/100\n",
      "35/35 [==============================] - 3s 96ms/step - loss: 2.2619 - accuracy: 0.0786 - val_loss: 2.3076 - val_accuracy: 0.0625\n",
      "Epoch 16/100\n",
      "35/35 [==============================] - 3s 97ms/step - loss: 2.2450 - accuracy: 0.1571 - val_loss: 2.2380 - val_accuracy: 0.1000\n",
      "Epoch 17/100\n",
      "35/35 [==============================] - 3s 96ms/step - loss: 2.2902 - accuracy: 0.1214 - val_loss: 2.0969 - val_accuracy: 0.1125\n",
      "Epoch 18/100\n",
      "35/35 [==============================] - 3s 98ms/step - loss: 2.2488 - accuracy: 0.1143 - val_loss: 2.1911 - val_accuracy: 0.1000\n",
      "Epoch 19/100\n",
      "35/35 [==============================] - 4s 118ms/step - loss: 2.2652 - accuracy: 0.1357 - val_loss: 2.2214 - val_accuracy: 0.0875\n",
      "Epoch 20/100\n",
      "35/35 [==============================] - 3s 96ms/step - loss: 2.2467 - accuracy: 0.1357 - val_loss: 2.3456 - val_accuracy: 0.2000\n",
      "Epoch 21/100\n",
      "35/35 [==============================] - 3s 97ms/step - loss: 2.2501 - accuracy: 0.1429 - val_loss: 2.1695 - val_accuracy: 0.0875\n",
      "Epoch 22/100\n",
      "35/35 [==============================] - 3s 96ms/step - loss: 2.2115 - accuracy: 0.1357 - val_loss: 2.3310 - val_accuracy: 0.0875\n",
      "Epoch 23/100\n",
      "35/35 [==============================] - 3s 98ms/step - loss: 2.2392 - accuracy: 0.1214 - val_loss: 2.3946 - val_accuracy: 0.1250\n",
      "Epoch 24/100\n",
      "35/35 [==============================] - 3s 96ms/step - loss: 2.2711 - accuracy: 0.0803 - val_loss: 2.2382 - val_accuracy: 0.0625\n",
      "Epoch 25/100\n",
      "35/35 [==============================] - 3s 96ms/step - loss: 2.2653 - accuracy: 0.0857 - val_loss: 2.1798 - val_accuracy: 0.1250\n",
      "Epoch 26/100\n",
      "35/35 [==============================] - 3s 96ms/step - loss: 2.2035 - accuracy: 0.0929 - val_loss: 2.3787 - val_accuracy: 0.0875\n",
      "Epoch 27/100\n",
      "35/35 [==============================] - 3s 96ms/step - loss: 2.2342 - accuracy: 0.1460 - val_loss: 2.2622 - val_accuracy: 0.0625\n",
      "Epoch 28/100\n",
      "35/35 [==============================] - 3s 96ms/step - loss: 2.2231 - accuracy: 0.1643 - val_loss: 2.2970 - val_accuracy: 0.0875\n",
      "Epoch 29/100\n",
      "35/35 [==============================] - 3s 96ms/step - loss: 2.2010 - accuracy: 0.1071 - val_loss: 2.2868 - val_accuracy: 0.1000\n",
      "Epoch 30/100\n",
      "35/35 [==============================] - 3s 96ms/step - loss: 2.2770 - accuracy: 0.1000 - val_loss: 2.1656 - val_accuracy: 0.1000\n",
      "Epoch 31/100\n",
      "35/35 [==============================] - 3s 94ms/step - loss: 2.1842 - accuracy: 0.1071 - val_loss: 2.4934 - val_accuracy: 0.0625\n",
      "Epoch 32/100\n",
      "35/35 [==============================] - 3s 96ms/step - loss: 2.2343 - accuracy: 0.1143 - val_loss: 2.1450 - val_accuracy: 0.2000\n",
      "Epoch 33/100\n",
      "35/35 [==============================] - 3s 97ms/step - loss: 2.2467 - accuracy: 0.1214 - val_loss: 2.1665 - val_accuracy: 0.1250\n",
      "Epoch 34/100\n",
      "35/35 [==============================] - 3s 97ms/step - loss: 2.2020 - accuracy: 0.1500 - val_loss: 2.3438 - val_accuracy: 0.1000\n",
      "Epoch 35/100\n",
      "35/35 [==============================] - 3s 98ms/step - loss: 2.2561 - accuracy: 0.0857 - val_loss: 2.2460 - val_accuracy: 0.0875\n",
      "Epoch 36/100\n",
      "35/35 [==============================] - 4s 117ms/step - loss: 2.1918 - accuracy: 0.1857 - val_loss: 2.3739 - val_accuracy: 0.1125\n",
      "Epoch 37/100\n",
      "35/35 [==============================] - 3s 97ms/step - loss: 2.2165 - accuracy: 0.1286 - val_loss: 2.2238 - val_accuracy: 0.1500\n",
      "Epoch 38/100\n",
      "35/35 [==============================] - 3s 95ms/step - loss: 2.2080 - accuracy: 0.1143 - val_loss: 2.1582 - val_accuracy: 0.1500\n",
      "Epoch 39/100\n",
      "35/35 [==============================] - 3s 95ms/step - loss: 2.2577 - accuracy: 0.1071 - val_loss: 2.1610 - val_accuracy: 0.1250\n",
      "Epoch 40/100\n",
      "35/35 [==============================] - 3s 97ms/step - loss: 2.1755 - accuracy: 0.1500 - val_loss: 2.3163 - val_accuracy: 0.0875\n",
      "Epoch 41/100\n",
      "35/35 [==============================] - 3s 95ms/step - loss: 2.2526 - accuracy: 0.1000 - val_loss: 2.1322 - val_accuracy: 0.1250\n",
      "Epoch 42/100\n",
      "35/35 [==============================] - 3s 96ms/step - loss: 2.1631 - accuracy: 0.1214 - val_loss: 2.3635 - val_accuracy: 0.2000\n",
      "Epoch 43/100\n",
      "35/35 [==============================] - 3s 96ms/step - loss: 2.2607 - accuracy: 0.1214 - val_loss: 2.2495 - val_accuracy: 0.1500\n",
      "Epoch 44/100\n",
      "35/35 [==============================] - 3s 95ms/step - loss: 2.2192 - accuracy: 0.1286 - val_loss: 2.3745 - val_accuracy: 0.0875\n",
      "Epoch 45/100\n",
      "35/35 [==============================] - 3s 95ms/step - loss: 2.2101 - accuracy: 0.1357 - val_loss: 2.2491 - val_accuracy: 0.0625\n",
      "Epoch 46/100\n",
      "35/35 [==============================] - 3s 97ms/step - loss: 2.2253 - accuracy: 0.1071 - val_loss: 2.2496 - val_accuracy: 0.0875\n",
      "Epoch 47/100\n",
      "35/35 [==============================] - 3s 96ms/step - loss: 2.2117 - accuracy: 0.1286 - val_loss: 2.0916 - val_accuracy: 0.1250\n",
      "Epoch 48/100\n",
      "35/35 [==============================] - 3s 97ms/step - loss: 2.1974 - accuracy: 0.0857 - val_loss: 2.1578 - val_accuracy: 0.1125\n",
      "Epoch 49/100\n",
      "35/35 [==============================] - 3s 96ms/step - loss: 2.2221 - accuracy: 0.1071 - val_loss: 2.0752 - val_accuracy: 0.2000\n",
      "Epoch 50/100\n",
      "35/35 [==============================] - 3s 95ms/step - loss: 2.2224 - accuracy: 0.1214 - val_loss: 2.0998 - val_accuracy: 0.0625\n",
      "Epoch 51/100\n",
      "35/35 [==============================] - 3s 96ms/step - loss: 2.2408 - accuracy: 0.0803 - val_loss: 2.1692 - val_accuracy: 0.1250\n",
      "Epoch 52/100\n",
      "35/35 [==============================] - 3s 95ms/step - loss: 2.2033 - accuracy: 0.1714 - val_loss: 2.1313 - val_accuracy: 0.1250\n",
      "Epoch 53/100\n",
      "35/35 [==============================] - 3s 97ms/step - loss: 2.1400 - accuracy: 0.1000 - val_loss: 2.3273 - val_accuracy: 0.0875\n",
      "Epoch 54/100\n",
      "35/35 [==============================] - 4s 118ms/step - loss: 2.2017 - accuracy: 0.1286 - val_loss: 2.2336 - val_accuracy: 0.1000\n",
      "Epoch 55/100\n",
      "35/35 [==============================] - 3s 96ms/step - loss: 2.1705 - accuracy: 0.1429 - val_loss: 2.2356 - val_accuracy: 0.1125\n",
      "Epoch 56/100\n",
      "35/35 [==============================] - 3s 97ms/step - loss: 2.2162 - accuracy: 0.1357 - val_loss: 2.1003 - val_accuracy: 0.1625\n",
      "Epoch 57/100\n",
      "35/35 [==============================] - 3s 96ms/step - loss: 2.1897 - accuracy: 0.1143 - val_loss: 2.3602 - val_accuracy: 0.1250\n",
      "Epoch 58/100\n",
      "35/35 [==============================] - 3s 96ms/step - loss: 2.2257 - accuracy: 0.1214 - val_loss: 2.2962 - val_accuracy: 0.1125\n",
      "Epoch 59/100\n",
      "35/35 [==============================] - 3s 95ms/step - loss: 2.2079 - accuracy: 0.1214 - val_loss: 2.1235 - val_accuracy: 0.1125\n",
      "Epoch 60/100\n",
      "35/35 [==============================] - 3s 95ms/step - loss: 2.1707 - accuracy: 0.1752 - val_loss: 2.0600 - val_accuracy: 0.2000\n",
      "Epoch 61/100\n",
      "35/35 [==============================] - 3s 95ms/step - loss: 2.2011 - accuracy: 0.1000 - val_loss: 2.1260 - val_accuracy: 0.1250\n",
      "Epoch 62/100\n",
      "35/35 [==============================] - 3s 95ms/step - loss: 2.1542 - accuracy: 0.1357 - val_loss: 2.2365 - val_accuracy: 0.1625\n",
      "Epoch 63/100\n",
      "35/35 [==============================] - 3s 94ms/step - loss: 2.2204 - accuracy: 0.0786 - val_loss: 2.1749 - val_accuracy: 0.0875\n",
      "Epoch 64/100\n",
      "35/35 [==============================] - 3s 96ms/step - loss: 2.1896 - accuracy: 0.1571 - val_loss: 2.3903 - val_accuracy: 0.1125\n",
      "Epoch 65/100\n",
      "35/35 [==============================] - 3s 94ms/step - loss: 2.1992 - accuracy: 0.1357 - val_loss: 2.1965 - val_accuracy: 0.1125\n",
      "Epoch 66/100\n",
      "35/35 [==============================] - 3s 96ms/step - loss: 2.1849 - accuracy: 0.1714 - val_loss: 2.2304 - val_accuracy: 0.0875\n",
      "Epoch 67/100\n",
      "35/35 [==============================] - 3s 96ms/step - loss: 2.1754 - accuracy: 0.1643 - val_loss: 2.2356 - val_accuracy: 0.0875\n",
      "Epoch 68/100\n",
      "35/35 [==============================] - 3s 94ms/step - loss: 2.2474 - accuracy: 0.0803 - val_loss: 2.0783 - val_accuracy: 0.1125\n",
      "Epoch 69/100\n",
      "35/35 [==============================] - 3s 99ms/step - loss: 2.1852 - accuracy: 0.1500 - val_loss: 2.1260 - val_accuracy: 0.1125\n",
      "Epoch 70/100\n",
      "35/35 [==============================] - 4s 104ms/step - loss: 2.1920 - accuracy: 0.1000 - val_loss: 2.0991 - val_accuracy: 0.1250\n",
      "Epoch 71/100\n",
      "35/35 [==============================] - 4s 111ms/step - loss: 2.1989 - accuracy: 0.0857 - val_loss: 2.1407 - val_accuracy: 0.2000\n",
      "Epoch 72/100\n",
      "35/35 [==============================] - 4s 103ms/step - loss: 2.2322 - accuracy: 0.0714 - val_loss: 2.1073 - val_accuracy: 0.1000\n",
      "Epoch 73/100\n",
      "35/35 [==============================] - 3s 95ms/step - loss: 2.2065 - accuracy: 0.1143 - val_loss: 2.1372 - val_accuracy: 0.1500\n",
      "Epoch 74/100\n",
      "35/35 [==============================] - 3s 97ms/step - loss: 2.1584 - accuracy: 0.1357 - val_loss: 2.4112 - val_accuracy: 0.1000\n",
      "Epoch 75/100\n",
      "35/35 [==============================] - 3s 96ms/step - loss: 2.1833 - accuracy: 0.1500 - val_loss: 2.3726 - val_accuracy: 0.1125\n",
      "Epoch 76/100\n",
      "35/35 [==============================] - 3s 95ms/step - loss: 2.1808 - accuracy: 0.1429 - val_loss: 2.4781 - val_accuracy: 0.0875\n",
      "Epoch 77/100\n",
      "35/35 [==============================] - 3s 95ms/step - loss: 2.1945 - accuracy: 0.1143 - val_loss: 2.2718 - val_accuracy: 0.1000\n",
      "Epoch 78/100\n",
      "35/35 [==============================] - 3s 96ms/step - loss: 2.2039 - accuracy: 0.0714 - val_loss: 2.2628 - val_accuracy: 0.1125\n",
      "Epoch 79/100\n",
      "35/35 [==============================] - 3s 99ms/step - loss: 2.2357 - accuracy: 0.0357 - val_loss: 2.1802 - val_accuracy: 0.0875\n",
      "Epoch 80/100\n",
      "35/35 [==============================] - 4s 116ms/step - loss: 2.1623 - accuracy: 0.1387 - val_loss: 2.1477 - val_accuracy: 0.1125\n",
      "Epoch 81/100\n",
      "35/35 [==============================] - 3s 99ms/step - loss: 2.1885 - accuracy: 0.0857 - val_loss: 2.1860 - val_accuracy: 0.1000\n",
      "Epoch 82/100\n",
      "35/35 [==============================] - 3s 97ms/step - loss: 2.1726 - accuracy: 0.1357 - val_loss: 2.3421 - val_accuracy: 0.1500\n",
      "Epoch 83/100\n",
      "35/35 [==============================] - 3s 96ms/step - loss: 2.2180 - accuracy: 0.1286 - val_loss: 2.1064 - val_accuracy: 0.2000\n",
      "Epoch 84/100\n",
      "35/35 [==============================] - 3s 98ms/step - loss: 2.1776 - accuracy: 0.1357 - val_loss: 2.2252 - val_accuracy: 0.1125\n",
      "Epoch 85/100\n",
      "35/35 [==============================] - 3s 96ms/step - loss: 2.2158 - accuracy: 0.0643 - val_loss: 2.0634 - val_accuracy: 0.1625\n",
      "Epoch 86/100\n",
      "35/35 [==============================] - 3s 96ms/step - loss: 2.1832 - accuracy: 0.1357 - val_loss: 2.2286 - val_accuracy: 0.0625\n",
      "Epoch 87/100\n",
      "35/35 [==============================] - 3s 97ms/step - loss: 2.1978 - accuracy: 0.1357 - val_loss: 2.1028 - val_accuracy: 0.2000\n",
      "Epoch 88/100\n",
      "35/35 [==============================] - 3s 97ms/step - loss: 2.1879 - accuracy: 0.1357 - val_loss: 2.1168 - val_accuracy: 0.2000\n",
      "Epoch 89/100\n",
      "35/35 [==============================] - 4s 126ms/step - loss: 2.1894 - accuracy: 0.1643 - val_loss: 2.1872 - val_accuracy: 0.0875\n",
      "Epoch 90/100\n",
      "35/35 [==============================] - 3s 97ms/step - loss: 2.2071 - accuracy: 0.0857 - val_loss: 2.0696 - val_accuracy: 0.1625\n",
      "Epoch 91/100\n",
      "35/35 [==============================] - 3s 98ms/step - loss: 2.1858 - accuracy: 0.0857 - val_loss: 2.2837 - val_accuracy: 0.1000\n",
      "Epoch 92/100\n",
      "35/35 [==============================] - 3s 96ms/step - loss: 2.1612 - accuracy: 0.1286 - val_loss: 2.3772 - val_accuracy: 0.0875\n",
      "Epoch 93/100\n",
      "35/35 [==============================] - 3s 96ms/step - loss: 2.1720 - accuracy: 0.1071 - val_loss: 2.1093 - val_accuracy: 0.0875\n",
      "Epoch 94/100\n",
      "35/35 [==============================] - 3s 97ms/step - loss: 2.1680 - accuracy: 0.1357 - val_loss: 2.3239 - val_accuracy: 0.0875\n",
      "Epoch 95/100\n",
      "35/35 [==============================] - 3s 96ms/step - loss: 2.2109 - accuracy: 0.0857 - val_loss: 2.3225 - val_accuracy: 0.1000\n",
      "Epoch 96/100\n",
      "35/35 [==============================] - 3s 97ms/step - loss: 2.2001 - accuracy: 0.0857 - val_loss: 2.1198 - val_accuracy: 0.1125\n",
      "Epoch 97/100\n",
      "35/35 [==============================] - 3s 100ms/step - loss: 2.1984 - accuracy: 0.1071 - val_loss: 2.1982 - val_accuracy: 0.1000\n",
      "Epoch 98/100\n",
      "35/35 [==============================] - 3s 97ms/step - loss: 2.1777 - accuracy: 0.1214 - val_loss: 2.1536 - val_accuracy: 0.1500\n",
      "Epoch 99/100\n",
      "35/35 [==============================] - 3s 99ms/step - loss: 2.1701 - accuracy: 0.1357 - val_loss: 2.2979 - val_accuracy: 0.0875\n",
      "Epoch 100/100\n",
      "35/35 [==============================] - 3s 97ms/step - loss: 2.1606 - accuracy: 0.0857 - val_loss: 2.0721 - val_accuracy: 0.1625\n"
     ]
    }
   ],
   "source": [
    "conv= convnet.fit_generator(train_it, steps_per_epoch=35, validation_data=val_it, validation_steps=20,epochs=100)"
   ]
  },
  {
   "cell_type": "code",
   "execution_count": 9,
   "metadata": {},
   "outputs": [
    {
     "data": {
      "image/png": "[encoded data removed]",
      "text/plain": [
       "<Figure size 432x288 with 1 Axes>"
      ]
     },
     "metadata": {
      "needs_background": "light"
     },
     "output_type": "display_data"
    },
    {
     "data": {
      "image/png": "[encoded data removed]",
      "text/plain": [
       "<Figure size 432x288 with 1 Axes>"
      ]
     },
     "metadata": {
      "needs_background": "light"
     },
     "output_type": "display_data"
    }
   ],
   "source": [
    "# Plot accuracy and loss\n",
    "\n",
    "### PLot of loss and accuracy\n",
    "acc = conv.history['accuracy']\n",
    "val_acc = conv.history['val_accuracy']\n",
    "loss = conv.history['loss']\n",
    "val_loss = conv.history['val_loss']\n",
    "\n",
    "epochs = range(len(acc))\n",
    "\n",
    "plt.plot(epochs, acc, 'bo', label='Training accuracy')\n",
    "plt.plot(epochs, val_acc, 'r', label='Validation accuracy')\n",
    "plt.title('Training and validation accuracy')\n",
    "plt.legend()\n",
    "\n",
    "plt.figure()\n",
    "\n",
    "plt.plot(epochs, loss, 'bo', label='Training loss')\n",
    "plt.plot(epochs, val_loss, 'r', label='Validation loss')\n",
    "plt.title('Training and validation loss')\n",
    "plt.legend()\n",
    "\n",
    "plt.show()"
   ]
  },
  {
   "cell_type": "markdown",
   "metadata": {},
   "source": [
    "_____________________________________________________________"
   ]
  },
  {
   "cell_type": "markdown",
   "metadata": {},
   "source": [
    "## Test the model"
   ]
  },
  {
   "cell_type": "code",
   "execution_count": 20,
   "metadata": {},
   "outputs": [
    {
     "name": "stdout",
     "output_type": "stream",
     "text": [
      "Found 272 images belonging to 55 classes.\n"
     ]
    }
   ],
   "source": [
    "TEST_PATH = r'TEST DIRECTORY'\n",
    "\n",
    "datagen = tf.keras.preprocessing.image.ImageDataGenerator(\n",
    "    fill_mode='nearest',\n",
    "    data_format=None, dtype=None\n",
    ")\n",
    "\n",
    "\n",
    "\n",
    "# Create the 2 datasets with the Keras generator\n",
    "test_it = datagen.flow_from_directory(TEST_PATH, class_mode='categorical',target_size=(100,100),batch_size=64)\n",
    "\n",
    "\n",
    "# filenames = test_generator.filenames\n",
    "nb_samples = len(test_it)\n",
    "\n",
    "predict = convnet.predict_generator(test_it,steps = nb_samples)\n",
    "\n",
    "# convnet.predict_generator(test_it, steps_per_epoch=35, validation_data=val_it, validation_steps=20,epochs=100)"
   ]
  },
  {
   "cell_type": "markdown",
   "metadata": {},
   "source": [
    "__________________________________"
   ]
  },
  {
   "cell_type": "markdown",
   "metadata": {},
   "source": [
    "## Naive Classifier"
   ]
  },
  {
   "cell_type": "raw",
   "metadata": {},
   "source": [
    "\n",
    "# example of selecting a random class naive classifier\n",
    "from numpy import mean\n",
    "from numpy.random import randint\n",
    "from sklearn.metrics import accuracy_score\n",
    " \n",
    "# predict a randomly selected class\n",
    "def random_class(y):\n",
    "\treturn y[randint(len(y))]\n",
    " \n",
    "# define dataset\n",
    "class0 = [0 for _ in range(5)]\n",
    "class1 = [1 for _ in range(5)]\n",
    "y = class0 + class1\n",
    "# average over many repeats\n",
    "results = list()\n",
    "for _ in range(1000):\n",
    "\tyhat = [random_class(y) for _ in range(len(y))]\n",
    "\tacc = accuracy_score(y, yhat)\n",
    "\tresults.append(acc)\n",
    "print('Mean: %.3f' % mean(results))"
   ]
  },
  {
   "cell_type": "markdown",
   "metadata": {},
   "source": [
    "## KNN CLASSIFIER"
   ]
  },
  {
   "cell_type": "markdown",
   "metadata": {},
   "source": [
    "### We must load the data again"
   ]
  },
  {
   "cell_type": "code",
   "execution_count": null,
   "metadata": {},
   "outputs": [],
   "source": [
    "def counter(data,location):\n",
    "    \n",
    "    '''Creates a dataframe with the location and\n",
    "    the category + sub-category information'''\n",
    "    \n",
    "    df = pd.DataFrame(data)\n",
    "    df.columns = ['Path']\n",
    "    df['Category'] = df['Sub-Category'] = ''\n",
    "\n",
    "    ## Split in categories and sub-categories\n",
    "    for i in range(len(df)):\n",
    "\n",
    "        tmp_categories = df['Path'][i].split(location)[1].split(\"\\\\\")[1:3]\n",
    "        df['Category'].iat[i] = tmp_categories[0]\n",
    "        df['Sub-Category'].iat[i] = tmp_categories[1]\n",
    "    \n",
    "    return df\n",
    "\n",
    "\n",
    "def DataLoad(location): #, size\n",
    "    \n",
    "    # find the size of our dataset\n",
    "    data = glob.glob(location+'\\\\***\\\\**\\\\*.png')\n",
    "    \n",
    "    # create the dataframe with the categories and shuffle the data\n",
    "    info = counter(data,location)\n",
    "#     info = shuffle(info)\n",
    "    \n",
    "    # define the size of train and test \n",
    "#     x_size = int(len(info) * (1 - split_size))\n",
    "#     y_size = 1 - x_size\n",
    "    \n",
    "    # Encode the Labels of the dataset\n",
    "    le = preprocessing.LabelEncoder()\n",
    "    \n",
    "    info['Label'] = le.fit_transform(list(info['Sub-Category'])) \n",
    "#     print(info['Label'],info['Sub-Category'])\n",
    "    ## Labels to array\n",
    "    labels = np.array(info['Label'])\n",
    "    \n",
    "    images = []\n",
    "    # Append the images to X\n",
    "    for i in info['Path']:\n",
    "        image = cv2.imread(i)\n",
    "        images.append(image)\n",
    "    # Change the list to numpy array\n",
    "    images = np.asarray(images) \n",
    "    \n",
    "    return images, labels, info"
   ]
  },
  {
   "cell_type": "code",
   "execution_count": null,
   "metadata": {},
   "outputs": [],
   "source": [
    "x, y ,dataset= DataLoad(PATH)\n",
    "x_train, x_test, y_train, y_test = train_test_split(x, y, test_size=0.3, random_state=42)"
   ]
  },
  {
   "cell_type": "markdown",
   "metadata": {},
   "source": [
    "##### Run KNN\n",
    "- This takes a while"
   ]
  },
  {
   "cell_type": "code",
   "execution_count": null,
   "metadata": {},
   "outputs": [],
   "source": [
    "knn_baseline(x_train, y_train, x_test, y_test)"
   ]
  }
 ],
 "metadata": {
  "kernelspec": {
   "display_name": "Python 3",
   "language": "python",
   "name": "python3"
  },
  "language_info": {
   "codemirror_mode": {
    "name": "ipython",
    "version": 3
   },
   "file_extension": ".py",
   "mimetype": "text/x-python",
   "name": "python",
   "nbconvert_exporter": "python",
   "pygments_lexer": "ipython3",
   "version": "3.7.0"
  }
 },
 "nbformat": 4,
 "nbformat_minor": 4
}
